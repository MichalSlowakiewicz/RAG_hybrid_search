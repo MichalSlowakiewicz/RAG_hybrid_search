{
  "nbformat": 4,
  "nbformat_minor": 0,
  "metadata": {
    "colab": {
      "provenance": []
    },
    "kernelspec": {
      "name": "python3",
      "display_name": "Python 3"
    },
    "language_info": {
      "name": "python"
    }
  },
  "cells": [
    {
      "cell_type": "markdown",
      "metadata": {
        "id": "gJnGHgmYkgAH"
      },
      "source": [
        "<a href=\"https://colab.research.google.com/github/MichalSlowakiewicz/RAG_hybrid_search/blob/master/RAG_project_fixed_with_colab.ipynb\" target=\"_blank\">\n",
        "  <img src=\"https://colab.research.google.com/assets/colab-badge.svg\" alt=\"Open In Colab\"/>\n",
        "</a>\n"
      ]
    },
    {
      "cell_type": "code",
      "execution_count": null,
      "metadata": {
        "id": "k_nnCbOYUDFY"
      },
      "outputs": [],
      "source": [
        "!pip install -q sentence-transformers datasets rank_bm25 scikit-learn nltk tqdm"
      ]
    },
    {
      "cell_type": "code",
      "source": [
        "from sentence_transformers import SentenceTransformer\n",
        "from datasets import load_dataset\n",
        "from rank_bm25 import BM25Okapi\n",
        "from sklearn.metrics.pairwise import cosine_similarity\n",
        "from sklearn.neighbors import NearestNeighbors\n",
        "import numpy as np\n",
        "import nltk\n",
        "from nltk.tokenize import word_tokenize\n",
        "from tqdm.auto import tqdm\n",
        "import math\n",
        "import multiprocessing\n",
        "nltk.download('punkt')"
      ],
      "metadata": {
        "colab": {
          "base_uri": "https://localhost:8080/"
        },
        "id": "Vh_74tE4UcQN",
        "outputId": "c962ad99-1160-4742-cefe-1cf2b59bded2"
      },
      "execution_count": null,
      "outputs": [
        {
          "output_type": "stream",
          "name": "stderr",
          "text": [
            "[nltk_data] Downloading package punkt to /root/nltk_data...\n",
            "[nltk_data]   Unzipping tokenizers/punkt.zip.\n"
          ]
        },
        {
          "output_type": "execute_result",
          "data": {
            "text/plain": [
              "True"
            ]
          },
          "metadata": {},
          "execution_count": 2
        }
      ]
    },
    {
      "cell_type": "code",
      "source": [
        "nltk.download('punkt_tab')\n"
      ],
      "metadata": {
        "colab": {
          "base_uri": "https://localhost:8080/"
        },
        "id": "6Ocb05T8Y9-l",
        "outputId": "554f5b2a-e0e0-4582-f8ca-60649ae49963"
      },
      "execution_count": null,
      "outputs": [
        {
          "output_type": "stream",
          "name": "stderr",
          "text": [
            "[nltk_data] Downloading package punkt_tab to /root/nltk_data...\n",
            "[nltk_data]   Unzipping tokenizers/punkt_tab.zip.\n"
          ]
        },
        {
          "output_type": "execute_result",
          "data": {
            "text/plain": [
              "True"
            ]
          },
          "metadata": {},
          "execution_count": 7
        }
      ]
    },
    {
      "cell_type": "code",
      "source": [
        "EMBEDDING_MODEL = \"sentence-transformers/all-MiniLM-L6-v2\"  # lekki, darmowy\n",
        "CHUNK_SIZE = 200          # tokens per passage (możesz zmieniać)\n",
        "CHUNK_OVERLAP = 50        # overlap tokens when chunking\n",
        "TOP_K = 3                # top-k retrieval to evaluate (Recall@10, MRR@10)\n",
        "EVAL_SAMPLE = 200        # ile pytań użyć do szybszej ewaluacji (ustaw None aby użyć całego dev setu)\n",
        "ALPHA = 0.65              # domyślne dla hybrydy (paper używał ok. 0.65) - eksperymentuj\n",
        "RANDOM_SEED = 42\n",
        "np.random.seed(RANDOM_SEED)"
      ],
      "metadata": {
        "id": "F0jiapOeUvC6"
      },
      "execution_count": null,
      "outputs": []
    },
    {
      "cell_type": "code",
      "source": [
        "ds = load_dataset(\"squad\", split=\"validation\")  # dev set\n",
        "print(\"Liczba przykładów (dev):\", len(ds))\n",
        "\n",
        "# Opcjonalne downsample dla szybkiej iteracji:\n",
        "if EVAL_SAMPLE is not None and EVAL_SAMPLE < len(ds):\n",
        "    ds = ds.shuffle(seed=RANDOM_SEED).select(range(EVAL_SAMPLE))\n",
        "    print(\"Używam podzbioru:\", len(ds))"
      ],
      "metadata": {
        "colab": {
          "base_uri": "https://localhost:8080/"
        },
        "id": "iYIG50EEYcue",
        "outputId": "5ae4683f-5655-4a73-f730-99e1f1072416"
      },
      "execution_count": null,
      "outputs": [
        {
          "output_type": "stream",
          "name": "stdout",
          "text": [
            "Liczba przykładów (dev): 10570\n",
            "Używam podzbioru: 200\n"
          ]
        }
      ]
    },
    {
      "cell_type": "code",
      "source": [
        "from math import ceil\n",
        "\n",
        "def tokenize_for_chunking(text):\n",
        "    return word_tokenize(text)\n",
        "\n",
        "def chunk_context(context, chunk_size=CHUNK_SIZE, overlap=CHUNK_OVERLAP):\n",
        "    tokens = tokenize_for_chunking(context)\n",
        "    if len(tokens) <= chunk_size:\n",
        "        return [\" \".join(tokens)]\n",
        "    chunks = []\n",
        "    start = 0\n",
        "    while start < len(tokens):\n",
        "        end = start + chunk_size\n",
        "        chunk_tokens = tokens[start:end]\n",
        "        chunks.append(\" \".join(chunk_tokens))\n",
        "        if end >= len(tokens):\n",
        "            break\n",
        "        start = end - overlap\n",
        "    return chunks\n",
        "\n",
        "# Example: build corpus of passages\n",
        "passages = []  # list of dicts: {\"passage\": text, \"id\": int, \"source_qids\": set([...])}\n",
        "for i, ex in enumerate(tqdm(ds)):\n",
        "    context = ex['context']\n",
        "    chunks = chunk_context(context)\n",
        "    for c in chunks:\n",
        "        passages.append({\"passage\": c, \"source_qid\": i, \"example\": ex})\n",
        "print(\"Liczba passage'ów:\", len(passages))"
      ],
      "metadata": {
        "colab": {
          "base_uri": "https://localhost:8080/",
          "height": 66,
          "referenced_widgets": [
            "a4a337c8eb5945fb9b1c137e04eda50e",
            "5e8a0ef61c614170b5099ad66c8d5864",
            "9e0f3985847c44a19a9b3b7629d44242",
            "2eace9b0f39a4bffb60c460b50ce9977",
            "ef3e0df8cf7c42a4b1e7cb5cccdc1c19",
            "c7d95b2e75ca4b3e82ecaafab1b5b008",
            "67e9748b1ce44bbeb76e3475b7da28af",
            "a5657c682307489290593e227ff3fca6",
            "cba1ca20f3964ca58e487057255ea438",
            "d623b6dbdf7a42b5aee7156e9fdba0b0",
            "185d633c2aa54f59a2f62ec9e20d740c"
          ]
        },
        "id": "139eD5RuYnCY",
        "outputId": "ae341350-a01a-429c-b4ae-f798b5cb3014"
      },
      "execution_count": null,
      "outputs": [
        {
          "output_type": "display_data",
          "data": {
            "text/plain": [
              "  0%|          | 0/200 [00:00<?, ?it/s]"
            ],
            "application/vnd.jupyter.widget-view+json": {
              "version_major": 2,
              "version_minor": 0,
              "model_id": "a4a337c8eb5945fb9b1c137e04eda50e"
            }
          },
          "metadata": {}
        },
        {
          "output_type": "stream",
          "name": "stdout",
          "text": [
            "Liczba passage'ów: 233\n"
          ]
        }
      ]
    },
    {
      "cell_type": "code",
      "source": [
        "tokenized_corpus = [word_tokenize(p['passage'].lower()) for p in passages]\n",
        "bm25 = BM25Okapi(tokenized_corpus)"
      ],
      "metadata": {
        "id": "BRfkAqw-ZCkl"
      },
      "execution_count": null,
      "outputs": []
    },
    {
      "cell_type": "code",
      "source": [
        "model = SentenceTransformer(EMBEDDING_MODEL)\n",
        "# Encode passages in batches (convert_to_numpy True)\n",
        "texts = [p['passage'] for p in passages]\n",
        "passage_embeddings = model.encode(texts, show_progress_bar=True, convert_to_numpy=True, batch_size=64)\n",
        "print(\"Embeddings shape:\", passage_embeddings.shape)\n",
        "\n",
        "# Build a nearest neighbors index (cosine similarity via metric='cosine')\n",
        "# We'll later use cosine similarity directly, for smaller corpora this is fine.\n",
        "nn = NearestNeighbors(n_neighbors=TOP_K, metric='cosine', n_jobs=-1)\n",
        "nn.fit(passage_embeddings)"
      ],
      "metadata": {
        "colab": {
          "base_uri": "https://localhost:8080/",
          "height": 130,
          "referenced_widgets": [
            "a48103600dbd4e97b2c812b90085603f",
            "103ad942a19342fd8695d5d4101eae16",
            "35ebad3bb6d745e9984c80f65969bd90",
            "23bc164e1b6041e1a3b94dcac3476541",
            "efe492e9753142deb48e300aa36c4878",
            "0f10e861013a4614a0fd47fcf3374382",
            "0284a4c168884d30975cb2f369f3015b",
            "a5b17d76ba9c4a808071dc6190a57e5e",
            "8dd0e76853594c4f81862b1cc66633f8",
            "b44f2aa43d8840afa3df1d43412c8a4c",
            "0cd829a3ce364e46a68a179d07aa2942"
          ]
        },
        "id": "PKJ4JVp8ZKwk",
        "outputId": "bb62a16d-4340-44eb-be02-bb7df76bd2de"
      },
      "execution_count": null,
      "outputs": [
        {
          "output_type": "display_data",
          "data": {
            "text/plain": [
              "Batches:   0%|          | 0/4 [00:00<?, ?it/s]"
            ],
            "application/vnd.jupyter.widget-view+json": {
              "version_major": 2,
              "version_minor": 0,
              "model_id": "a48103600dbd4e97b2c812b90085603f"
            }
          },
          "metadata": {}
        },
        {
          "output_type": "stream",
          "name": "stdout",
          "text": [
            "Embeddings shape: (233, 384)\n"
          ]
        },
        {
          "output_type": "execute_result",
          "data": {
            "text/plain": [
              "NearestNeighbors(metric='cosine', n_jobs=-1, n_neighbors=3)"
            ],
            "text/html": [
              "<style>#sk-container-id-2 {\n",
              "  /* Definition of color scheme common for light and dark mode */\n",
              "  --sklearn-color-text: #000;\n",
              "  --sklearn-color-text-muted: #666;\n",
              "  --sklearn-color-line: gray;\n",
              "  /* Definition of color scheme for unfitted estimators */\n",
              "  --sklearn-color-unfitted-level-0: #fff5e6;\n",
              "  --sklearn-color-unfitted-level-1: #f6e4d2;\n",
              "  --sklearn-color-unfitted-level-2: #ffe0b3;\n",
              "  --sklearn-color-unfitted-level-3: chocolate;\n",
              "  /* Definition of color scheme for fitted estimators */\n",
              "  --sklearn-color-fitted-level-0: #f0f8ff;\n",
              "  --sklearn-color-fitted-level-1: #d4ebff;\n",
              "  --sklearn-color-fitted-level-2: #b3dbfd;\n",
              "  --sklearn-color-fitted-level-3: cornflowerblue;\n",
              "\n",
              "  /* Specific color for light theme */\n",
              "  --sklearn-color-text-on-default-background: var(--sg-text-color, var(--theme-code-foreground, var(--jp-content-font-color1, black)));\n",
              "  --sklearn-color-background: var(--sg-background-color, var(--theme-background, var(--jp-layout-color0, white)));\n",
              "  --sklearn-color-border-box: var(--sg-text-color, var(--theme-code-foreground, var(--jp-content-font-color1, black)));\n",
              "  --sklearn-color-icon: #696969;\n",
              "\n",
              "  @media (prefers-color-scheme: dark) {\n",
              "    /* Redefinition of color scheme for dark theme */\n",
              "    --sklearn-color-text-on-default-background: var(--sg-text-color, var(--theme-code-foreground, var(--jp-content-font-color1, white)));\n",
              "    --sklearn-color-background: var(--sg-background-color, var(--theme-background, var(--jp-layout-color0, #111)));\n",
              "    --sklearn-color-border-box: var(--sg-text-color, var(--theme-code-foreground, var(--jp-content-font-color1, white)));\n",
              "    --sklearn-color-icon: #878787;\n",
              "  }\n",
              "}\n",
              "\n",
              "#sk-container-id-2 {\n",
              "  color: var(--sklearn-color-text);\n",
              "}\n",
              "\n",
              "#sk-container-id-2 pre {\n",
              "  padding: 0;\n",
              "}\n",
              "\n",
              "#sk-container-id-2 input.sk-hidden--visually {\n",
              "  border: 0;\n",
              "  clip: rect(1px 1px 1px 1px);\n",
              "  clip: rect(1px, 1px, 1px, 1px);\n",
              "  height: 1px;\n",
              "  margin: -1px;\n",
              "  overflow: hidden;\n",
              "  padding: 0;\n",
              "  position: absolute;\n",
              "  width: 1px;\n",
              "}\n",
              "\n",
              "#sk-container-id-2 div.sk-dashed-wrapped {\n",
              "  border: 1px dashed var(--sklearn-color-line);\n",
              "  margin: 0 0.4em 0.5em 0.4em;\n",
              "  box-sizing: border-box;\n",
              "  padding-bottom: 0.4em;\n",
              "  background-color: var(--sklearn-color-background);\n",
              "}\n",
              "\n",
              "#sk-container-id-2 div.sk-container {\n",
              "  /* jupyter's `normalize.less` sets `[hidden] { display: none; }`\n",
              "     but bootstrap.min.css set `[hidden] { display: none !important; }`\n",
              "     so we also need the `!important` here to be able to override the\n",
              "     default hidden behavior on the sphinx rendered scikit-learn.org.\n",
              "     See: https://github.com/scikit-learn/scikit-learn/issues/21755 */\n",
              "  display: inline-block !important;\n",
              "  position: relative;\n",
              "}\n",
              "\n",
              "#sk-container-id-2 div.sk-text-repr-fallback {\n",
              "  display: none;\n",
              "}\n",
              "\n",
              "div.sk-parallel-item,\n",
              "div.sk-serial,\n",
              "div.sk-item {\n",
              "  /* draw centered vertical line to link estimators */\n",
              "  background-image: linear-gradient(var(--sklearn-color-text-on-default-background), var(--sklearn-color-text-on-default-background));\n",
              "  background-size: 2px 100%;\n",
              "  background-repeat: no-repeat;\n",
              "  background-position: center center;\n",
              "}\n",
              "\n",
              "/* Parallel-specific style estimator block */\n",
              "\n",
              "#sk-container-id-2 div.sk-parallel-item::after {\n",
              "  content: \"\";\n",
              "  width: 100%;\n",
              "  border-bottom: 2px solid var(--sklearn-color-text-on-default-background);\n",
              "  flex-grow: 1;\n",
              "}\n",
              "\n",
              "#sk-container-id-2 div.sk-parallel {\n",
              "  display: flex;\n",
              "  align-items: stretch;\n",
              "  justify-content: center;\n",
              "  background-color: var(--sklearn-color-background);\n",
              "  position: relative;\n",
              "}\n",
              "\n",
              "#sk-container-id-2 div.sk-parallel-item {\n",
              "  display: flex;\n",
              "  flex-direction: column;\n",
              "}\n",
              "\n",
              "#sk-container-id-2 div.sk-parallel-item:first-child::after {\n",
              "  align-self: flex-end;\n",
              "  width: 50%;\n",
              "}\n",
              "\n",
              "#sk-container-id-2 div.sk-parallel-item:last-child::after {\n",
              "  align-self: flex-start;\n",
              "  width: 50%;\n",
              "}\n",
              "\n",
              "#sk-container-id-2 div.sk-parallel-item:only-child::after {\n",
              "  width: 0;\n",
              "}\n",
              "\n",
              "/* Serial-specific style estimator block */\n",
              "\n",
              "#sk-container-id-2 div.sk-serial {\n",
              "  display: flex;\n",
              "  flex-direction: column;\n",
              "  align-items: center;\n",
              "  background-color: var(--sklearn-color-background);\n",
              "  padding-right: 1em;\n",
              "  padding-left: 1em;\n",
              "}\n",
              "\n",
              "\n",
              "/* Toggleable style: style used for estimator/Pipeline/ColumnTransformer box that is\n",
              "clickable and can be expanded/collapsed.\n",
              "- Pipeline and ColumnTransformer use this feature and define the default style\n",
              "- Estimators will overwrite some part of the style using the `sk-estimator` class\n",
              "*/\n",
              "\n",
              "/* Pipeline and ColumnTransformer style (default) */\n",
              "\n",
              "#sk-container-id-2 div.sk-toggleable {\n",
              "  /* Default theme specific background. It is overwritten whether we have a\n",
              "  specific estimator or a Pipeline/ColumnTransformer */\n",
              "  background-color: var(--sklearn-color-background);\n",
              "}\n",
              "\n",
              "/* Toggleable label */\n",
              "#sk-container-id-2 label.sk-toggleable__label {\n",
              "  cursor: pointer;\n",
              "  display: flex;\n",
              "  width: 100%;\n",
              "  margin-bottom: 0;\n",
              "  padding: 0.5em;\n",
              "  box-sizing: border-box;\n",
              "  text-align: center;\n",
              "  align-items: start;\n",
              "  justify-content: space-between;\n",
              "  gap: 0.5em;\n",
              "}\n",
              "\n",
              "#sk-container-id-2 label.sk-toggleable__label .caption {\n",
              "  font-size: 0.6rem;\n",
              "  font-weight: lighter;\n",
              "  color: var(--sklearn-color-text-muted);\n",
              "}\n",
              "\n",
              "#sk-container-id-2 label.sk-toggleable__label-arrow:before {\n",
              "  /* Arrow on the left of the label */\n",
              "  content: \"▸\";\n",
              "  float: left;\n",
              "  margin-right: 0.25em;\n",
              "  color: var(--sklearn-color-icon);\n",
              "}\n",
              "\n",
              "#sk-container-id-2 label.sk-toggleable__label-arrow:hover:before {\n",
              "  color: var(--sklearn-color-text);\n",
              "}\n",
              "\n",
              "/* Toggleable content - dropdown */\n",
              "\n",
              "#sk-container-id-2 div.sk-toggleable__content {\n",
              "  max-height: 0;\n",
              "  max-width: 0;\n",
              "  overflow: hidden;\n",
              "  text-align: left;\n",
              "  /* unfitted */\n",
              "  background-color: var(--sklearn-color-unfitted-level-0);\n",
              "}\n",
              "\n",
              "#sk-container-id-2 div.sk-toggleable__content.fitted {\n",
              "  /* fitted */\n",
              "  background-color: var(--sklearn-color-fitted-level-0);\n",
              "}\n",
              "\n",
              "#sk-container-id-2 div.sk-toggleable__content pre {\n",
              "  margin: 0.2em;\n",
              "  border-radius: 0.25em;\n",
              "  color: var(--sklearn-color-text);\n",
              "  /* unfitted */\n",
              "  background-color: var(--sklearn-color-unfitted-level-0);\n",
              "}\n",
              "\n",
              "#sk-container-id-2 div.sk-toggleable__content.fitted pre {\n",
              "  /* unfitted */\n",
              "  background-color: var(--sklearn-color-fitted-level-0);\n",
              "}\n",
              "\n",
              "#sk-container-id-2 input.sk-toggleable__control:checked~div.sk-toggleable__content {\n",
              "  /* Expand drop-down */\n",
              "  max-height: 200px;\n",
              "  max-width: 100%;\n",
              "  overflow: auto;\n",
              "}\n",
              "\n",
              "#sk-container-id-2 input.sk-toggleable__control:checked~label.sk-toggleable__label-arrow:before {\n",
              "  content: \"▾\";\n",
              "}\n",
              "\n",
              "/* Pipeline/ColumnTransformer-specific style */\n",
              "\n",
              "#sk-container-id-2 div.sk-label input.sk-toggleable__control:checked~label.sk-toggleable__label {\n",
              "  color: var(--sklearn-color-text);\n",
              "  background-color: var(--sklearn-color-unfitted-level-2);\n",
              "}\n",
              "\n",
              "#sk-container-id-2 div.sk-label.fitted input.sk-toggleable__control:checked~label.sk-toggleable__label {\n",
              "  background-color: var(--sklearn-color-fitted-level-2);\n",
              "}\n",
              "\n",
              "/* Estimator-specific style */\n",
              "\n",
              "/* Colorize estimator box */\n",
              "#sk-container-id-2 div.sk-estimator input.sk-toggleable__control:checked~label.sk-toggleable__label {\n",
              "  /* unfitted */\n",
              "  background-color: var(--sklearn-color-unfitted-level-2);\n",
              "}\n",
              "\n",
              "#sk-container-id-2 div.sk-estimator.fitted input.sk-toggleable__control:checked~label.sk-toggleable__label {\n",
              "  /* fitted */\n",
              "  background-color: var(--sklearn-color-fitted-level-2);\n",
              "}\n",
              "\n",
              "#sk-container-id-2 div.sk-label label.sk-toggleable__label,\n",
              "#sk-container-id-2 div.sk-label label {\n",
              "  /* The background is the default theme color */\n",
              "  color: var(--sklearn-color-text-on-default-background);\n",
              "}\n",
              "\n",
              "/* On hover, darken the color of the background */\n",
              "#sk-container-id-2 div.sk-label:hover label.sk-toggleable__label {\n",
              "  color: var(--sklearn-color-text);\n",
              "  background-color: var(--sklearn-color-unfitted-level-2);\n",
              "}\n",
              "\n",
              "/* Label box, darken color on hover, fitted */\n",
              "#sk-container-id-2 div.sk-label.fitted:hover label.sk-toggleable__label.fitted {\n",
              "  color: var(--sklearn-color-text);\n",
              "  background-color: var(--sklearn-color-fitted-level-2);\n",
              "}\n",
              "\n",
              "/* Estimator label */\n",
              "\n",
              "#sk-container-id-2 div.sk-label label {\n",
              "  font-family: monospace;\n",
              "  font-weight: bold;\n",
              "  display: inline-block;\n",
              "  line-height: 1.2em;\n",
              "}\n",
              "\n",
              "#sk-container-id-2 div.sk-label-container {\n",
              "  text-align: center;\n",
              "}\n",
              "\n",
              "/* Estimator-specific */\n",
              "#sk-container-id-2 div.sk-estimator {\n",
              "  font-family: monospace;\n",
              "  border: 1px dotted var(--sklearn-color-border-box);\n",
              "  border-radius: 0.25em;\n",
              "  box-sizing: border-box;\n",
              "  margin-bottom: 0.5em;\n",
              "  /* unfitted */\n",
              "  background-color: var(--sklearn-color-unfitted-level-0);\n",
              "}\n",
              "\n",
              "#sk-container-id-2 div.sk-estimator.fitted {\n",
              "  /* fitted */\n",
              "  background-color: var(--sklearn-color-fitted-level-0);\n",
              "}\n",
              "\n",
              "/* on hover */\n",
              "#sk-container-id-2 div.sk-estimator:hover {\n",
              "  /* unfitted */\n",
              "  background-color: var(--sklearn-color-unfitted-level-2);\n",
              "}\n",
              "\n",
              "#sk-container-id-2 div.sk-estimator.fitted:hover {\n",
              "  /* fitted */\n",
              "  background-color: var(--sklearn-color-fitted-level-2);\n",
              "}\n",
              "\n",
              "/* Specification for estimator info (e.g. \"i\" and \"?\") */\n",
              "\n",
              "/* Common style for \"i\" and \"?\" */\n",
              "\n",
              ".sk-estimator-doc-link,\n",
              "a:link.sk-estimator-doc-link,\n",
              "a:visited.sk-estimator-doc-link {\n",
              "  float: right;\n",
              "  font-size: smaller;\n",
              "  line-height: 1em;\n",
              "  font-family: monospace;\n",
              "  background-color: var(--sklearn-color-background);\n",
              "  border-radius: 1em;\n",
              "  height: 1em;\n",
              "  width: 1em;\n",
              "  text-decoration: none !important;\n",
              "  margin-left: 0.5em;\n",
              "  text-align: center;\n",
              "  /* unfitted */\n",
              "  border: var(--sklearn-color-unfitted-level-1) 1pt solid;\n",
              "  color: var(--sklearn-color-unfitted-level-1);\n",
              "}\n",
              "\n",
              ".sk-estimator-doc-link.fitted,\n",
              "a:link.sk-estimator-doc-link.fitted,\n",
              "a:visited.sk-estimator-doc-link.fitted {\n",
              "  /* fitted */\n",
              "  border: var(--sklearn-color-fitted-level-1) 1pt solid;\n",
              "  color: var(--sklearn-color-fitted-level-1);\n",
              "}\n",
              "\n",
              "/* On hover */\n",
              "div.sk-estimator:hover .sk-estimator-doc-link:hover,\n",
              ".sk-estimator-doc-link:hover,\n",
              "div.sk-label-container:hover .sk-estimator-doc-link:hover,\n",
              ".sk-estimator-doc-link:hover {\n",
              "  /* unfitted */\n",
              "  background-color: var(--sklearn-color-unfitted-level-3);\n",
              "  color: var(--sklearn-color-background);\n",
              "  text-decoration: none;\n",
              "}\n",
              "\n",
              "div.sk-estimator.fitted:hover .sk-estimator-doc-link.fitted:hover,\n",
              ".sk-estimator-doc-link.fitted:hover,\n",
              "div.sk-label-container:hover .sk-estimator-doc-link.fitted:hover,\n",
              ".sk-estimator-doc-link.fitted:hover {\n",
              "  /* fitted */\n",
              "  background-color: var(--sklearn-color-fitted-level-3);\n",
              "  color: var(--sklearn-color-background);\n",
              "  text-decoration: none;\n",
              "}\n",
              "\n",
              "/* Span, style for the box shown on hovering the info icon */\n",
              ".sk-estimator-doc-link span {\n",
              "  display: none;\n",
              "  z-index: 9999;\n",
              "  position: relative;\n",
              "  font-weight: normal;\n",
              "  right: .2ex;\n",
              "  padding: .5ex;\n",
              "  margin: .5ex;\n",
              "  width: min-content;\n",
              "  min-width: 20ex;\n",
              "  max-width: 50ex;\n",
              "  color: var(--sklearn-color-text);\n",
              "  box-shadow: 2pt 2pt 4pt #999;\n",
              "  /* unfitted */\n",
              "  background: var(--sklearn-color-unfitted-level-0);\n",
              "  border: .5pt solid var(--sklearn-color-unfitted-level-3);\n",
              "}\n",
              "\n",
              ".sk-estimator-doc-link.fitted span {\n",
              "  /* fitted */\n",
              "  background: var(--sklearn-color-fitted-level-0);\n",
              "  border: var(--sklearn-color-fitted-level-3);\n",
              "}\n",
              "\n",
              ".sk-estimator-doc-link:hover span {\n",
              "  display: block;\n",
              "}\n",
              "\n",
              "/* \"?\"-specific style due to the `<a>` HTML tag */\n",
              "\n",
              "#sk-container-id-2 a.estimator_doc_link {\n",
              "  float: right;\n",
              "  font-size: 1rem;\n",
              "  line-height: 1em;\n",
              "  font-family: monospace;\n",
              "  background-color: var(--sklearn-color-background);\n",
              "  border-radius: 1rem;\n",
              "  height: 1rem;\n",
              "  width: 1rem;\n",
              "  text-decoration: none;\n",
              "  /* unfitted */\n",
              "  color: var(--sklearn-color-unfitted-level-1);\n",
              "  border: var(--sklearn-color-unfitted-level-1) 1pt solid;\n",
              "}\n",
              "\n",
              "#sk-container-id-2 a.estimator_doc_link.fitted {\n",
              "  /* fitted */\n",
              "  border: var(--sklearn-color-fitted-level-1) 1pt solid;\n",
              "  color: var(--sklearn-color-fitted-level-1);\n",
              "}\n",
              "\n",
              "/* On hover */\n",
              "#sk-container-id-2 a.estimator_doc_link:hover {\n",
              "  /* unfitted */\n",
              "  background-color: var(--sklearn-color-unfitted-level-3);\n",
              "  color: var(--sklearn-color-background);\n",
              "  text-decoration: none;\n",
              "}\n",
              "\n",
              "#sk-container-id-2 a.estimator_doc_link.fitted:hover {\n",
              "  /* fitted */\n",
              "  background-color: var(--sklearn-color-fitted-level-3);\n",
              "}\n",
              "</style><div id=\"sk-container-id-2\" class=\"sk-top-container\"><div class=\"sk-text-repr-fallback\"><pre>NearestNeighbors(metric=&#x27;cosine&#x27;, n_jobs=-1, n_neighbors=3)</pre><b>.</b></div><div class=\"sk-container\" hidden><div class=\"sk-item\"><div class=\"sk-estimator fitted sk-toggleable\"><input class=\"sk-toggleable__control sk-hidden--visually\" id=\"sk-estimator-id-2\" type=\"checkbox\" checked><label for=\"sk-estimator-id-2\" class=\"sk-toggleable__label fitted sk-toggleable__label-arrow\"><div><div>NearestNeighbors</div></div><div><a class=\"sk-estimator-doc-link fitted\" rel=\"noreferrer\" target=\"_blank\" href=\"https://scikit-learn.org/1.6/modules/generated/sklearn.neighbors.NearestNeighbors.html\">?<span>Documentation for NearestNeighbors</span></a><span class=\"sk-estimator-doc-link fitted\">i<span>Fitted</span></span></div></label><div class=\"sk-toggleable__content fitted\"><pre>NearestNeighbors(metric=&#x27;cosine&#x27;, n_jobs=-1, n_neighbors=3)</pre></div> </div></div></div></div>"
            ]
          },
          "metadata": {},
          "execution_count": 24
        }
      ]
    },
    {
      "cell_type": "code",
      "source": [
        "from collections import defaultdict\n",
        "\n",
        "def retrieve_bm25(query, top_k=TOP_K):\n",
        "    tokens = word_tokenize(query.lower())\n",
        "    scores = bm25.get_scores(tokens)  # length = num passages\n",
        "    top_idx = np.argsort(scores)[-top_k:][::-1]\n",
        "    top_scores = scores[top_idx]\n",
        "    return list(zip(top_idx.tolist(), top_scores.tolist()))\n",
        "\n",
        "def retrieve_embedding(query, top_k=TOP_K):\n",
        "    q_emb = model.encode([query], convert_to_numpy=True)\n",
        "    # sklearn NearestNeighbors with metric='cosine' returns distances; similarity = 1 - distance\n",
        "    dists, idxs = nn.kneighbors(q_emb, n_neighbors=top_k)\n",
        "    dists = dists[0]  # shape (top_k,)\n",
        "    idxs = idxs[0]\n",
        "    sims = 1.0 - dists  # convert to similarity\n",
        "    return list(zip(idxs.tolist(), sims.tolist()))\n",
        "\n",
        "def retrieve_hybrid(query, alpha=ALPHA, top_k=TOP_K):\n",
        "    # get a larger candidate set (union of BM25 top_k and embedding top_k), then combine\n",
        "    bm = retrieve_bm25(query, top_k=top_k)\n",
        "    em = retrieve_embedding(query, top_k=top_k)\n",
        "    candidate_ids = list({i for i,_ in bm} | {i for i,_ in em})\n",
        "    bm_scores_all = []\n",
        "    em_scores_all = []\n",
        "    # collect raw scores\n",
        "    for pid in candidate_ids:\n",
        "        # BM25 score\n",
        "        bm_score = bm25.get_scores(word_tokenize(query.lower()))[pid]\n",
        "        bm_scores_all.append(bm_score)\n",
        "        # emb score\n",
        "        q_emb = model.encode([query], convert_to_numpy=True)\n",
        "        emb_sim = cosine_similarity(q_emb, passage_embeddings[pid:pid+1])[0][0]\n",
        "        em_scores_all.append(emb_sim)\n",
        "    bm_scores = np.array(bm_scores_all)\n",
        "    em_scores = np.array(em_scores_all)\n",
        "    # normalize both to [0,1] per-query to make them comparable (min-max)\n",
        "    def minmax(x):\n",
        "        if len(x)==0:\n",
        "            return x\n",
        "        xmin, xmax = x.min(), x.max()\n",
        "        if xmax - xmin < 1e-8:\n",
        "            return np.ones_like(x)*0.5\n",
        "        return (x - xmin) / (xmax - xmin)\n",
        "    bm_norm = minmax(bm_scores)\n",
        "    em_norm = minmax(em_scores)\n",
        "    final_scores = alpha * em_norm + (1-alpha) * bm_norm\n",
        "    # sort\n",
        "    order = np.argsort(final_scores)[::-1]\n",
        "    top_order = order[:top_k]\n",
        "    results = [(candidate_ids[i], float(final_scores[i])) for i in top_order]\n",
        "    return results"
      ],
      "metadata": {
        "id": "NwppaGbLZjmx"
      },
      "execution_count": null,
      "outputs": []
    },
    {
      "cell_type": "code",
      "source": [
        "def normalize_text(s):\n",
        "    return \" \".join(word_tokenize(s.lower()))\n",
        "\n",
        "def passage_contains_answer(passage_text, answers_list):\n",
        "    p = normalize_text(passage_text)\n",
        "    for a in answers_list:\n",
        "        if normalize_text(a) in p:\n",
        "            return True\n",
        "    return False"
      ],
      "metadata": {
        "id": "oqC8KeV6Zs1S"
      },
      "execution_count": null,
      "outputs": []
    },
    {
      "cell_type": "code",
      "source": [
        "def evaluate_retriever(retrieve_fn, queries_dataset, top_k=TOP_K):\n",
        "    hits_at_k = 0\n",
        "    rr_total = 0.0\n",
        "    n = len(queries_dataset)\n",
        "    for qi, ex in enumerate(tqdm(queries_dataset)):\n",
        "        q_text = ex['question']\n",
        "        answers = ex['answers']['text']  # list of acceptable answers\n",
        "        retrieved = retrieve_fn(q_text, top_k=top_k)\n",
        "        # retrieved: list of (passage_id, score)\n",
        "        found = False\n",
        "        rr = 0.0\n",
        "        for rank, (pid, score) in enumerate(retrieved, start=1):\n",
        "            if passage_contains_answer(passages[pid]['passage'], answers):\n",
        "                found = True\n",
        "                rr = 1.0 / rank\n",
        "                break\n",
        "        hits_at_k += int(found)\n",
        "        rr_total += rr\n",
        "    recall = hits_at_k / n\n",
        "    mrr = rr_total / n\n",
        "    return {\"recall@{}\".format(top_k): recall, \"mrr@{}\".format(top_k): mrr, \"n\": n}\n",
        "\n",
        "# Run evaluation for BM25, Embedding, Hybrid\n",
        "sample_ds = ds  # previously optionally downsampled\n",
        "print(\"Eval queries:\", len(sample_ds))\n",
        "\n",
        "res_bm25 = evaluate_retriever(retrieve_bm25, sample_ds, top_k=TOP_K)\n",
        "res_emb  = evaluate_retriever(retrieve_embedding, sample_ds, top_k=TOP_K)\n",
        "res_hyb  = evaluate_retriever(lambda q, top_k: retrieve_hybrid(q, alpha=ALPHA, top_k=top_k), sample_ds, top_k=TOP_K)\n",
        "\n",
        "print(\"BM25:\", res_bm25)\n",
        "print(\"Embedding:\", res_emb)\n",
        "print(\"Hybrid (alpha={}):\".format(ALPHA), res_hyb)"
      ],
      "metadata": {
        "colab": {
          "base_uri": "https://localhost:8080/",
          "height": 182,
          "referenced_widgets": [
            "4eb3729465d649388d4bb1c48073e944",
            "a680d603dded4776989ff9b86dcc9c05",
            "f5838a93cf1d421880cfc56607a95ba6",
            "6cbae401dcd2463795cb234acb22c6f5",
            "e1e28c8069fb4c20938da4ec65452079",
            "cff9c18e009549ec9528d3b586a811ac",
            "fd78a89492404369ad5c44403109869e",
            "c2863d46e0b345ef85cabb72c0ef0fcd",
            "9c8324442f074d3883c84fd1eaf2dfa1",
            "ec53e68c91a84af4baca073699e3376a",
            "6bf54d15b3654ab8b1b4bede3781ccc6",
            "b7bd1cd975ac4321aa430a9b45da7af1",
            "6536b2840cef4a65aa578d8a54160cc1",
            "859199f247ca431888db83feaa09f5a0",
            "16e3becd427945aebb539c1ad349065e",
            "fb421995d3454e15be59f39d42595dcb",
            "0ab26ad81fe342b4a52bde38c13c73a7",
            "341fdaa6d2d54ad1853b380ae4e06539",
            "cf381bcdf1d441818c557cf3145e51f9",
            "b454bdd52f1a49e695f1c129c06674e3",
            "51510f2fddf14e2b829a3dc2e88a1b51",
            "f5ba88e1eb6a42189872f9cdffc05dab",
            "f610d57c9f114a039b026bc889059660",
            "bf3a84319f6f4e4c811b02e126bbea44",
            "c7d0ec22cbe24fe09796b59230128b12",
            "492b1502d6774cb6938a69a9bd7c623d",
            "d88262d886cd42e7a6b1b31f973d7d4f",
            "8a207472b6b447f18932f56d47e10122",
            "5781c3d8677e4b12943d41b27e767f35",
            "1d4a3c9357b0477d91026084924c4ef0",
            "9f1294d5b2b941e3a515c8c07b9dca9d",
            "3903ea8c304742eeb6b7f11645ebda5c",
            "7da55182cacd4fe7bde889790251872d"
          ]
        },
        "id": "Wj2DCM9iZwkj",
        "outputId": "464ce8bc-e233-41b3-d05b-5554678b8d8a"
      },
      "execution_count": null,
      "outputs": [
        {
          "output_type": "stream",
          "name": "stdout",
          "text": [
            "Eval queries: 200\n"
          ]
        },
        {
          "output_type": "display_data",
          "data": {
            "text/plain": [
              "  0%|          | 0/200 [00:00<?, ?it/s]"
            ],
            "application/vnd.jupyter.widget-view+json": {
              "version_major": 2,
              "version_minor": 0,
              "model_id": "4eb3729465d649388d4bb1c48073e944"
            }
          },
          "metadata": {}
        },
        {
          "output_type": "display_data",
          "data": {
            "text/plain": [
              "  0%|          | 0/200 [00:00<?, ?it/s]"
            ],
            "application/vnd.jupyter.widget-view+json": {
              "version_major": 2,
              "version_minor": 0,
              "model_id": "b7bd1cd975ac4321aa430a9b45da7af1"
            }
          },
          "metadata": {}
        },
        {
          "output_type": "display_data",
          "data": {
            "text/plain": [
              "  0%|          | 0/200 [00:00<?, ?it/s]"
            ],
            "application/vnd.jupyter.widget-view+json": {
              "version_major": 2,
              "version_minor": 0,
              "model_id": "f610d57c9f114a039b026bc889059660"
            }
          },
          "metadata": {}
        },
        {
          "output_type": "stream",
          "name": "stdout",
          "text": [
            "BM25: {'recall@3': 0.905, 'mrr@3': 0.8250000000000002, 'n': 200}\n",
            "Embedding: {'recall@3': 0.93, 'mrr@3': 0.8566666666666667, 'n': 200}\n",
            "Hybrid (alpha=0.65): {'recall@3': 0.95, 'mrr@3': 0.905, 'n': 200}\n"
          ]
        }
      ]
    },
    {
      "cell_type": "code",
      "source": [
        "alphas = [0.0, 0.25, 0.5, 0.65, 0.8, 1.0]  # 0.0 = pure BM25, 1.0 = pure semantic\n",
        "results_by_alpha = {}\n",
        "for a in alphas:\n",
        "    res = evaluate_retriever(lambda q, top_k: retrieve_hybrid(q, alpha=a, top_k=top_k), sample_ds, top_k=TOP_K)\n",
        "    results_by_alpha[a] = res\n",
        "    print(\"alpha\", a, res)"
      ],
      "metadata": {
        "colab": {
          "base_uri": "https://localhost:8080/",
          "height": 313,
          "referenced_widgets": [
            "4ea3e6a438ca4abbb6af6a2112878fda",
            "7defb62e38334260b1e8d9911efefea9",
            "1c238b49e3074d0e8160b8325ca5712c",
            "d67f4bb3df71433fb7a6efdce8a1fa4f",
            "02712bab8dbc48ad80b530296d61f316",
            "5dec2af995214d18b2bb49a70af90bfa",
            "cc2950e538074213bbe080282ae9f5bd",
            "a37885a21d6d46da8ce632585f261620",
            "d2a5e8ec5804450da7c511d9ebb5165e",
            "01eb1992a8214eb49e976efdad49c030",
            "43652239613c4094828dcd7973d1d27e",
            "13d704855ee94b2dbed302c53bec7c74",
            "2af0e49b9b7147a692187440fd64a85e",
            "d8cce888fb894436bc563952c22d09ed",
            "40025a550779416595444678e4fe2ae0",
            "9b37205723a241308eec75400749fb84",
            "9f005754e876482ab4d3cdd1c71b5ea5",
            "e880c94476774d30a20c57f2833f69f2",
            "3587f64a12784946b2d53988a37df56b",
            "317a2c7880a149878ef9b457fabf98e9",
            "913d57f4fa4e435a91a282186895c98b",
            "4a937af4f29645e588b33bd132aef3b0",
            "f9f48e076a3941edbccaaee31a2469a6",
            "76ee4cceb53046669362eade6029594e",
            "4a887d23da414799bc16153d181e69b5",
            "74176d9ae1dc46d0853bc5de9703bb45",
            "6225cb76899c47f7961a5b3b5147b5f7",
            "585d95bfe224440cabeffb66d506a527",
            "4e710b60b10b45ebaf65eb5adf8e1735",
            "e92ca54216024b58bd1719f5fcf50983",
            "b839232ab64e4d94a2aadcd3242bc748",
            "ce63a8d6543b45f3b5da53635eee8eda",
            "21e8ab3ba9424533a4f721abb61df687",
            "f3c4360e4c3d4d0e966fbfc546056c9a",
            "489c233a1e6242c4bd7727454173f1cd",
            "ea80cc948ce6413594f69731dc63a29a",
            "1ef5711d3aaf463291cbbdd25c2e4a0e",
            "b9863c4ec347405b892979a3b32a60e1",
            "8d5158b05c654c49af1ddfaa4a57d266",
            "8c3b076390434e689a87946033049685",
            "3701d228068445bda38c360cacb31e48",
            "ec50ab385d204876937e15cfd160b666",
            "06a18ae60e6f48d5a184d530d666f1cc",
            "8fe36e9b09544cedafcc1a6ea48b173b",
            "fa10861ba2d8439990e038caa9c70943",
            "7c6629a57b8249c5a6a9e44fa287b4ee",
            "0172dc9e2fc24ccd9ade2ef91e194da8",
            "3f87d6be7c934f06b38e16ade7bdeedc",
            "23adcf16cd9a469983e4dafa36bdfcbb",
            "0e9d364e2ac841cbb4fc91ddf6fea675",
            "13f3896d4e9043e39f87856f63085ed4",
            "fbbb0cc35eee48e3925bb6f1cde3df66",
            "539fb24f7e5e4ba4981851035c7391b6",
            "4637791262354b7880076d1411702b16",
            "ade803ffea754ff79b80c18d962d674c",
            "24b7a473f02e4088a22541022e9d3512",
            "6c485aea28f64d75b50b885d218e3301",
            "c6efdff2f23b49bca960d1fd9614b30b",
            "8dd1d86b018b4c61abbd9dab74511dee",
            "3c1b35e3a83848d0b0cc24850527e32a",
            "5bf1cd443f58449cb2d6c970649ec847",
            "6531c93a24ad44af89a8846bba57a68d",
            "bba724c361854de4a0b925656391a72b",
            "ef73e93046c947dcbf0c5e3788f59389",
            "44b6319723c342af8b116ea6d2a2b452",
            "5749305d740e438e93832a47b9ae1afc"
          ]
        },
        "id": "ChEX_lFybXIN",
        "outputId": "1cdd9689-ad4e-46e1-f6c4-d00794fdd8d3"
      },
      "execution_count": null,
      "outputs": [
        {
          "output_type": "display_data",
          "data": {
            "text/plain": [
              "  0%|          | 0/200 [00:00<?, ?it/s]"
            ],
            "application/vnd.jupyter.widget-view+json": {
              "version_major": 2,
              "version_minor": 0,
              "model_id": "4ea3e6a438ca4abbb6af6a2112878fda"
            }
          },
          "metadata": {}
        },
        {
          "output_type": "stream",
          "name": "stdout",
          "text": [
            "alpha 0.0 {'recall@3': 0.905, 'mrr@3': 0.8250000000000002, 'n': 200}\n"
          ]
        },
        {
          "output_type": "display_data",
          "data": {
            "text/plain": [
              "  0%|          | 0/200 [00:00<?, ?it/s]"
            ],
            "application/vnd.jupyter.widget-view+json": {
              "version_major": 2,
              "version_minor": 0,
              "model_id": "13d704855ee94b2dbed302c53bec7c74"
            }
          },
          "metadata": {}
        },
        {
          "output_type": "stream",
          "name": "stdout",
          "text": [
            "alpha 0.25 {'recall@3': 0.925, 'mrr@3': 0.8658333333333336, 'n': 200}\n"
          ]
        },
        {
          "output_type": "display_data",
          "data": {
            "text/plain": [
              "  0%|          | 0/200 [00:00<?, ?it/s]"
            ],
            "application/vnd.jupyter.widget-view+json": {
              "version_major": 2,
              "version_minor": 0,
              "model_id": "f9f48e076a3941edbccaaee31a2469a6"
            }
          },
          "metadata": {}
        },
        {
          "output_type": "stream",
          "name": "stdout",
          "text": [
            "alpha 0.5 {'recall@3': 0.95, 'mrr@3': 0.8925000000000002, 'n': 200}\n"
          ]
        },
        {
          "output_type": "display_data",
          "data": {
            "text/plain": [
              "  0%|          | 0/200 [00:00<?, ?it/s]"
            ],
            "application/vnd.jupyter.widget-view+json": {
              "version_major": 2,
              "version_minor": 0,
              "model_id": "f3c4360e4c3d4d0e966fbfc546056c9a"
            }
          },
          "metadata": {}
        },
        {
          "output_type": "stream",
          "name": "stdout",
          "text": [
            "alpha 0.65 {'recall@3': 0.95, 'mrr@3': 0.905, 'n': 200}\n"
          ]
        },
        {
          "output_type": "display_data",
          "data": {
            "text/plain": [
              "  0%|          | 0/200 [00:00<?, ?it/s]"
            ],
            "application/vnd.jupyter.widget-view+json": {
              "version_major": 2,
              "version_minor": 0,
              "model_id": "fa10861ba2d8439990e038caa9c70943"
            }
          },
          "metadata": {}
        },
        {
          "output_type": "stream",
          "name": "stdout",
          "text": [
            "alpha 0.8 {'recall@3': 0.95, 'mrr@3': 0.9008333333333334, 'n': 200}\n"
          ]
        },
        {
          "output_type": "display_data",
          "data": {
            "text/plain": [
              "  0%|          | 0/200 [00:00<?, ?it/s]"
            ],
            "application/vnd.jupyter.widget-view+json": {
              "version_major": 2,
              "version_minor": 0,
              "model_id": "24b7a473f02e4088a22541022e9d3512"
            }
          },
          "metadata": {}
        },
        {
          "output_type": "stream",
          "name": "stdout",
          "text": [
            "alpha 1.0 {'recall@3': 0.93, 'mrr@3': 0.8566666666666667, 'n': 200}\n"
          ]
        }
      ]
    },
    {
      "cell_type": "code",
      "source": [
        "# @title\n",
        "import csv\n",
        "with open(\"hybrid_results.csv\", \"w\", newline=\"\") as f:\n",
        "    writer = csv.writer(f)\n",
        "    writer.writerow([\"alpha\", \"recall@{}\".format(TOP_K), \"mrr@{}\".format(TOP_K)])\n",
        "    for a, r in results_by_alpha.items():\n",
        "        writer.writerow([a, r[\"recall@{}\".format(TOP_K)], r[\"mrr@{}\".format(TOP_K)]])\n",
        "print(\"Zapisano hybrid_results.csv\")"
      ],
      "metadata": {
        "colab": {
          "base_uri": "https://localhost:8080/"
        },
        "id": "VW-qZmwbbesf",
        "outputId": "5bd8aa72-58c1-4a82-853d-65dc823953a7"
      },
      "execution_count": null,
      "outputs": [
        {
          "output_type": "stream",
          "name": "stdout",
          "text": [
            "Zapisano hybrid_results.csv\n"
          ]
        }
      ]
    }
  ]
}
